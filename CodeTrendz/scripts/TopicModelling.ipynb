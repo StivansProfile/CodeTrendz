{
 "cells": [
  {
   "cell_type": "code",
   "execution_count": 1,
   "metadata": {},
   "outputs": [],
   "source": [
    "import pandas as pd\n",
    "from nltk.corpus import stopwords\n",
    "from nltk.stem import WordNetLemmatizer\n",
    "from nltk.tokenize import word_tokenize\n",
    "from gensim import corpora, models\n",
    "import pyLDAvis.gensim_models\n",
    "import matplotlib.pyplot as plt"
   ]
  },
  {
   "cell_type": "code",
   "execution_count": 2,
   "metadata": {},
   "outputs": [
    {
     "name": "stderr",
     "output_type": "stream",
     "text": [
      "[nltk_data] Downloading package punkt to\n",
      "[nltk_data]     C:\\Users\\disco\\AppData\\Roaming\\nltk_data...\n",
      "[nltk_data]   Package punkt is already up-to-date!\n",
      "[nltk_data] Downloading package stopwords to\n",
      "[nltk_data]     C:\\Users\\disco\\AppData\\Roaming\\nltk_data...\n",
      "[nltk_data]   Package stopwords is already up-to-date!\n",
      "[nltk_data] Downloading package wordnet to\n",
      "[nltk_data]     C:\\Users\\disco\\AppData\\Roaming\\nltk_data...\n",
      "[nltk_data]   Package wordnet is already up-to-date!\n"
     ]
    },
    {
     "data": {
      "text/plain": [
       "True"
      ]
     },
     "execution_count": 2,
     "metadata": {},
     "output_type": "execute_result"
    }
   ],
   "source": [
    "import nltk\n",
    "nltk.download('punkt')\n",
    "nltk.download('stopwords')\n",
    "nltk.download('wordnet')"
   ]
  },
  {
   "cell_type": "code",
   "execution_count": 3,
   "metadata": {},
   "outputs": [],
   "source": [
    "job_postings = [\n",
    "    {\n",
    "        \"title\": \"Data Scientist\",\n",
    "        \"description\": \"Unlock the power of data! We are seeking a skilled Data Scientist with expertise in machine learning and data analysis. Join our dynamic team to drive data-driven insights, solve complex problems, and contribute to cutting-edge projects that shape the future.\"\n",
    "    },\n",
    "    {\n",
    "        \"title\": \"Software Engineer\",\n",
    "        \"description\": \"Innovate with us! Join our team as a Software Engineer and play a pivotal role in building groundbreaking solutions and developing new features. Collaborate with a diverse and talented group of professionals, and make a lasting impact in the world of technology.\"\n",
    "    },\n",
    "    {\n",
    "        \"title\": \"Marketing Manager\",\n",
    "        \"description\": \"Lead, inspire, grow! We're on the lookout for a dynamic Marketing Manager to spearhead campaigns, manage teams, and drive brand growth. If you're passionate about creating compelling narratives and driving impactful marketing strategies, we want to hear from you.\"\n",
    "    },\n",
    "    {\n",
    "        \"title\": \"Frontend Developer\",\n",
    "        \"description\": \"Crafting exceptional user experiences! Are you passionate about creating visually stunning web applications? Join us as a Frontend Developer, where you'll use your expertise in HTML, CSS, and JavaScript to bring ideas to life. Experience with React or Vue is a big plus.\"\n",
    "    },\n",
    "    {\n",
    "        \"title\": \"Database Administrator\",\n",
    "        \"description\": \"Master of data integrity! We're seeking a detail-oriented Database Administrator to manage and optimize our database systems. If you excel in ensuring data security, troubleshooting, and performance tuning, and have a proficiency in SQL and database management systems, we want you on our team.\"\n",
    "    },\n",
    "    {\n",
    "        \"title\": \"AI Researcher\",\n",
    "        \"description\": \"Pioneer in AI! Join our team as an AI Researcher and work on cutting-edge projects in artificial intelligence and machine learning. If you have a strong background in mathematics, statistics, and programming, and possess knowledge of Python, TensorFlow, and neural networks, let's innovate together.\"\n",
    "    },\n",
    "    {\n",
    "        \"title\": \"Network Engineer\",\n",
    "        \"description\": \"Architecting connectivity! Join us as a Network Engineer responsible for designing, implementing, and maintaining our network infrastructure. Bring your strong knowledge of networking protocols, security, and experience with Cisco or Juniper equipment to contribute to the backbone of our technological ecosystem.\"\n",
    "    },\n",
    "    {\n",
    "        \"title\": \"Cybersecurity Specialist\",\n",
    "        \"description\": \"Guardian of digital fortresses! We're looking for a Cybersecurity Specialist to protect our systems and information. If you thrive in analyzing security risks, implementing measures, and staying ahead of the latest threats, join us in safeguarding the digital frontier.\"\n",
    "    },\n",
    "    {\n",
    "        \"title\": \"UX/UI Designer\",\n",
    "        \"description\": \"Crafting user-centric experiences! We're hiring a UX/UI Designer with a passion for creating intuitive and visually appealing designs. Collaborate with cross-functional teams, showcase your proficiency in design tools, and contribute to shaping products that users love.\"\n",
    "    },\n",
    "    {\n",
    "        \"title\": \"Machine Learning Engineer\",\n",
    "        \"description\": \"Transform data into intelligence! Join us as a Machine Learning Engineer to develop and deploy machine learning models. Contribute to the entire ML lifecycle – from data collection to model deployment. If you're proficient in Python, TensorFlow, and have experience with ML libraries, let's drive innovation together.\"\n",
    "    }\n",
    "]\n"
   ]
  },
  {
   "cell_type": "code",
   "execution_count": 4,
   "metadata": {},
   "outputs": [],
   "source": [
    "df = pd.DataFrame(job_postings)"
   ]
  },
  {
   "cell_type": "code",
   "execution_count": 5,
   "metadata": {},
   "outputs": [],
   "source": [
    "# Text preprocessing\n",
    "stop_words = set(stopwords.words('english'))\n",
    "lemmatizer = WordNetLemmatizer()\n",
    "\n",
    "def preprocess_text(text):\n",
    "    tokens = word_tokenize(text.lower())\n",
    "    tokens = [lemmatizer.lemmatize(token) for token in tokens if token.isalnum() and token not in stop_words]\n",
    "    return tokens\n",
    "\n",
    "df['tokens'] = df['description'].apply(preprocess_text)"
   ]
  },
  {
   "cell_type": "code",
   "execution_count": 6,
   "metadata": {},
   "outputs": [],
   "source": [
    "# Create a dictionary representation of the job descriptions\n",
    "dictionary = corpora.Dictionary(df['tokens'])\n",
    "\n",
    "# Create a bag-of-words corpus\n",
    "corpus = [dictionary.doc2bow(tokens) for tokens in df['tokens']]"
   ]
  },
  {
   "cell_type": "code",
   "execution_count": 7,
   "metadata": {},
   "outputs": [],
   "source": [
    "# Train an LDA model\n",
    "lda_model = models.LdaModel(corpus, num_topics=3, id2word=dictionary, passes=15)"
   ]
  },
  {
   "cell_type": "code",
   "execution_count": 8,
   "metadata": {},
   "outputs": [
    {
     "name": "stderr",
     "output_type": "stream",
     "text": [
      "c:\\Users\\disco\\AppData\\Local\\Programs\\Python\\Python38\\lib\\site-packages\\pyLDAvis\\_prepare.py:243: FutureWarning: In a future version of pandas all arguments of DataFrame.drop except for the argument 'labels' will be keyword-only.\n",
      "  default_term_info = default_term_info.sort_values(\n"
     ]
    },
    {
     "data": {
      "text/html": [
       "\n",
       "<link rel=\"stylesheet\" type=\"text/css\" href=\"https://cdn.jsdelivr.net/gh/bmabey/pyLDAvis@3.4.0/pyLDAvis/js/ldavis.v1.0.0.css\">\n",
       "\n",
       "\n",
       "<div id=\"ldavis_el1861230578698095849585440690\" style=\"background-color:white;\"></div>\n",
       "<script type=\"text/javascript\">\n",
       "\n",
       "var ldavis_el1861230578698095849585440690_data = {\"mdsDat\": {\"x\": [-0.09553281689657131, 0.04837805707373259, 0.047154759822838704], \"y\": [-0.0006324682741289465, -0.07377222937550353, 0.07440469764963244], \"topics\": [1, 2, 3], \"cluster\": [1, 1, 1], \"Freq\": [39.40796822738366, 31.490296240005833, 29.101735532610505]}, \"tinfo\": {\"Term\": [\"experience\", \"dynamic\", \"marketing\", \"security\", \"system\", \"network\", \"database\", \"ml\", \"model\", \"crafting\", \"user\", \"visually\", \"design\", \"drive\", \"creating\", \"digital\", \"implementing\", \"knowledge\", \"strong\", \"ai\", \"team\", \"narrative\", \"brand\", \"problem\", \"software\", \"lookout\", \"grow\", \"impactful\", \"campaign\", \"shape\", \"security\", \"system\", \"network\", \"database\", \"digital\", \"implementing\", \"knowledge\", \"strong\", \"ai\", \"connectivity\", \"information\", \"risk\", \"threat\", \"cybersecurity\", \"specialist\", \"ahead\", \"protocol\", \"designing\", \"staying\", \"frontier\", \"fortress\", \"architecting\", \"thrive\", \"troubleshooting\", \"analyzing\", \"protect\", \"latest\", \"technological\", \"networking\", \"juniper\", \"join\", \"u\", \"team\", \"data\", \"proficiency\", \"project\", \"ml\", \"model\", \"crafting\", \"user\", \"visually\", \"design\", \"experience\", \"library\", \"entire\", \"transform\", \"collection\", \"deploy\", \"deployment\", \"innovation\", \"develop\", \"lifecycle\", \"cs\", \"idea\", \"exceptional\", \"frontend\", \"plus\", \"life\", \"vue\", \"application\", \"react\", \"use\", \"web\", \"developer\", \"javascript\", \"big\", \"creating\", \"learning\", \"machine\", \"contribute\", \"u\", \"data\", \"join\", \"engineer\", \"tensorflow\", \"let\", \"intelligence\", \"together\", \"python\", \"bring\", \"expertise\", \"passionate\", \"dynamic\", \"marketing\", \"narrative\", \"brand\", \"problem\", \"lookout\", \"grow\", \"software\", \"impactful\", \"campaign\", \"shape\", \"driving\", \"solve\", \"inspire\", \"growth\", \"power\", \"manager\", \"scientist\", \"compelling\", \"hear\", \"insight\", \"new\", \"lead\", \"complex\", \"strategy\", \"analysis\", \"group\", \"spearhead\", \"lasting\", \"solution\", \"drive\", \"team\", \"data\", \"join\", \"manage\", \"want\", \"seeking\", \"collaborate\", \"project\", \"innovate\", \"passionate\"], \"Freq\": [3.0, 1.0, 1.0, 2.0, 2.0, 2.0, 2.0, 1.0, 1.0, 1.0, 1.0, 1.0, 1.0, 2.0, 2.0, 1.0, 1.0, 1.0, 1.0, 1.0, 4.0, 1.0, 1.0, 1.0, 1.0, 1.0, 1.0, 1.0, 1.0, 1.0, 2.086097081851766, 2.0860665608591518, 2.0859515059657823, 2.085909331503261, 1.4602208439821827, 1.460201329044481, 1.4600379030022108, 1.4599717741848801, 1.4598121401447226, 0.8343901101379515, 0.8343762369594905, 0.8343677280767011, 0.8343642135381577, 0.8343617163660347, 0.8343576469003529, 0.8343566295339323, 0.8343576469003529, 0.8343498779204147, 0.8343433112826099, 0.8343429413311841, 0.8343414615254817, 0.8343425713797585, 0.8343395192804971, 0.8343379469869382, 0.8343363746933793, 0.8343348023998204, 0.8343337850333999, 0.8343331376184051, 0.8343316578127026, 0.8343306404462821, 2.0874612777337616, 1.4603628128417667, 1.4598654131500128, 1.4579301047547075, 0.8345571432066216, 0.83440250351071, 1.3441525477608183, 1.3441490002914578, 1.3436272266730092, 1.343585691719246, 1.3435249413064463, 1.3428600864237887, 2.501579907014468, 0.7680450017186042, 0.7680447800017692, 0.7680442626624875, 0.7680438192288175, 0.768043449700759, 0.7680418237773021, 0.7680413064380204, 0.7680407890987386, 0.768040715193127, 0.7680391631752818, 0.76803908926967, 0.768038867552835, 0.7680387197416116, 0.768038645836, 0.7680384980247766, 0.7680378328742715, 0.7680370938181548, 0.7680369460069314, 0.7680366503844847, 0.7680365025732613, 0.7680364286676497, 0.7680359113283679, 0.7680358374227562, 1.3448661803471835, 1.348931580234382, 1.34885530964313, 1.3479443490735836, 1.3477412564526916, 1.3451380051869364, 1.345866714518084, 0.7699406806581519, 0.7690886228611131, 0.768999049259759, 0.7689497542167697, 0.7689421419387668, 0.7689303170408983, 0.7688601806154156, 0.7685321875107874, 0.7683071449232272, 1.2988705176067474, 1.2985928105385631, 0.7423020459801252, 0.7422967185941639, 0.7422854491238613, 0.7422769799461794, 0.7422726087576983, 0.7422566948996346, 0.7422653006769566, 0.7422642078798364, 0.7422567631994547, 0.7422500698170931, 0.7422424202372513, 0.7422282138746881, 0.742223364587467, 0.7422168078047454, 0.7422143490112248, 0.7422073824295832, 0.7422103193218439, 0.7422099778227438, 0.7422071775301232, 0.7421896927761992, 0.7421944737636003, 0.742189282977279, 0.7421864826846584, 0.7421775354082363, 0.7421612117512525, 0.7421728910204752, 0.7421562941642114, 0.7421485762845496, 1.2997831398017985, 1.862172190389988, 1.8589287685370772, 1.297862275663674, 0.7430403670344959, 0.7429836781838829, 0.7429082068827654, 0.7425872660285111, 0.7425806409459695, 0.7425556432118439, 0.7423676821071603], \"Total\": [3.0, 1.0, 1.0, 2.0, 2.0, 2.0, 2.0, 1.0, 1.0, 1.0, 1.0, 1.0, 1.0, 2.0, 2.0, 1.0, 1.0, 1.0, 1.0, 1.0, 4.0, 1.0, 1.0, 1.0, 1.0, 1.0, 1.0, 1.0, 1.0, 1.0, 2.4643543756429507, 2.4643476397754247, 2.464348533038189, 2.464329189330927, 1.8383717467122977, 1.8383723664279699, 1.8383621844076223, 1.8383563084974706, 1.8383436311906638, 1.2123971337272117, 1.2123937930350404, 1.2123930329468302, 1.2123922546138208, 1.2123920724538224, 1.212391962967864, 1.212391590367327, 1.212394378205193, 1.2123938641561338, 1.212390449611009, 1.2123904289081784, 1.2123901215024526, 1.212393337796157, 1.2123901878592693, 1.212388532285134, 1.2123893649066826, 1.2123896058375359, 1.212389700168346, 1.2123925436130025, 1.212392299726624, 1.212392381732467, 4.731190267915519, 3.5479252609121494, 4.085922014943565, 4.661996878478721, 1.788502295521299, 1.7696142412514764, 1.738670652840825, 1.7386707276900994, 1.7386860626873262, 1.7386903283405917, 1.738691228748918, 1.7387213151700918, 3.51639139612242, 1.162550841810742, 1.162550762740556, 1.1625508426574764, 1.1625508492196457, 1.1625509929885114, 1.1625510165542345, 1.1625510751319108, 1.1625511984439671, 1.1625511633197778, 1.1625503797638996, 1.162550422184756, 1.1625503011527294, 1.1625503753159212, 1.1625503953136629, 1.1625505530511113, 1.1625503784605875, 1.1625503636656622, 1.1625502823893374, 1.1625505167715466, 1.1625502964140124, 1.1625504821803674, 1.162550328046653, 1.1625503231575087, 2.2960030462874297, 2.921694282061289, 2.9217109121081695, 2.921746536187724, 3.5479252609121494, 4.661996878478721, 4.731190267915519, 2.345676696979581, 1.7884281791292909, 1.788434667854314, 1.788440451266177, 1.7884404970609975, 1.7884422948258574, 1.7884476499194384, 1.7198234978360993, 1.719806564423479, 1.7009816846264116, 1.7010170341088169, 1.1437044277253827, 1.1437035802505644, 1.1437018456880792, 1.1437045617885935, 1.1437062876587842, 1.1436868149526336, 1.1437078113445516, 1.143709752862733, 1.1437069853493926, 1.1437100689337316, 1.1437089412665231, 1.143713002806256, 1.1437142774870193, 1.1437102128584782, 1.1437167803877981, 1.143709334837668, 1.1437150007401926, 1.1437149969911153, 1.1437130438981136, 1.1436905850015835, 1.1437122731015543, 1.1437134144752577, 1.1437199461599392, 1.1437107419863606, 1.143694002255082, 1.1437188162958452, 1.1436935238390298, 1.1436934318450505, 2.2770752032726307, 4.085922014943565, 4.661996878478721, 4.731190267915519, 1.769587487683264, 1.7695953288819561, 1.769590837446621, 1.719817027461239, 1.7696142412514764, 1.7695745832151129, 1.719806564423479], \"Category\": [\"Default\", \"Default\", \"Default\", \"Default\", \"Default\", \"Default\", \"Default\", \"Default\", \"Default\", \"Default\", \"Default\", \"Default\", \"Default\", \"Default\", \"Default\", \"Default\", \"Default\", \"Default\", \"Default\", \"Default\", \"Default\", \"Default\", \"Default\", \"Default\", \"Default\", \"Default\", \"Default\", \"Default\", \"Default\", \"Default\", \"Topic1\", \"Topic1\", \"Topic1\", \"Topic1\", \"Topic1\", \"Topic1\", \"Topic1\", \"Topic1\", \"Topic1\", \"Topic1\", \"Topic1\", \"Topic1\", \"Topic1\", \"Topic1\", \"Topic1\", \"Topic1\", \"Topic1\", \"Topic1\", \"Topic1\", \"Topic1\", \"Topic1\", \"Topic1\", \"Topic1\", \"Topic1\", \"Topic1\", \"Topic1\", \"Topic1\", \"Topic1\", \"Topic1\", \"Topic1\", \"Topic1\", \"Topic1\", \"Topic1\", \"Topic1\", \"Topic1\", \"Topic1\", \"Topic2\", \"Topic2\", \"Topic2\", \"Topic2\", \"Topic2\", \"Topic2\", \"Topic2\", \"Topic2\", \"Topic2\", \"Topic2\", \"Topic2\", \"Topic2\", \"Topic2\", \"Topic2\", \"Topic2\", \"Topic2\", \"Topic2\", \"Topic2\", \"Topic2\", \"Topic2\", \"Topic2\", \"Topic2\", \"Topic2\", \"Topic2\", \"Topic2\", \"Topic2\", \"Topic2\", \"Topic2\", \"Topic2\", \"Topic2\", \"Topic2\", \"Topic2\", \"Topic2\", \"Topic2\", \"Topic2\", \"Topic2\", \"Topic2\", \"Topic2\", \"Topic2\", \"Topic2\", \"Topic2\", \"Topic2\", \"Topic2\", \"Topic2\", \"Topic2\", \"Topic2\", \"Topic3\", \"Topic3\", \"Topic3\", \"Topic3\", \"Topic3\", \"Topic3\", \"Topic3\", \"Topic3\", \"Topic3\", \"Topic3\", \"Topic3\", \"Topic3\", \"Topic3\", \"Topic3\", \"Topic3\", \"Topic3\", \"Topic3\", \"Topic3\", \"Topic3\", \"Topic3\", \"Topic3\", \"Topic3\", \"Topic3\", \"Topic3\", \"Topic3\", \"Topic3\", \"Topic3\", \"Topic3\", \"Topic3\", \"Topic3\", \"Topic3\", \"Topic3\", \"Topic3\", \"Topic3\", \"Topic3\", \"Topic3\", \"Topic3\", \"Topic3\", \"Topic3\", \"Topic3\", \"Topic3\"], \"logprob\": [30.0, 29.0, 28.0, 27.0, 26.0, 25.0, 24.0, 23.0, 22.0, 21.0, 20.0, 19.0, 18.0, 17.0, 16.0, 15.0, 14.0, 13.0, 12.0, 11.0, 10.0, 9.0, 8.0, 7.0, 6.0, 5.0, 4.0, 3.0, 2.0, 1.0, -3.8629, -3.8629, -3.863, -3.863, -4.2196, -4.2197, -4.2198, -4.2198, -4.2199, -4.7793, -4.7793, -4.7793, -4.7793, -4.7793, -4.7793, -4.7793, -4.7793, -4.7793, -4.7793, -4.7793, -4.7793, -4.7793, -4.7793, -4.7793, -4.7793, -4.7793, -4.7793, -4.7793, -4.7794, -4.7794, -3.8623, -4.2195, -4.2199, -4.2212, -4.7791, -4.7793, -4.0782, -4.0782, -4.0786, -4.0786, -4.0786, -4.0791, -3.457, -4.6378, -4.6378, -4.6378, -4.6378, -4.6378, -4.6378, -4.6379, -4.6379, -4.6379, -4.6379, -4.6379, -4.6379, -4.6379, -4.6379, -4.6379, -4.6379, -4.6379, -4.6379, -4.6379, -4.6379, -4.6379, -4.6379, -4.6379, -4.0776, -4.0746, -4.0747, -4.0754, -4.0755, -4.0774, -4.0769, -4.6354, -4.6365, -4.6366, -4.6367, -4.6367, -4.6367, -4.6368, -4.6372, -4.6375, -4.0336, -4.0338, -4.5931, -4.5931, -4.5931, -4.5931, -4.5931, -4.5931, -4.5931, -4.5931, -4.5931, -4.5931, -4.5931, -4.5932, -4.5932, -4.5932, -4.5932, -4.5932, -4.5932, -4.5932, -4.5932, -4.5932, -4.5932, -4.5932, -4.5932, -4.5932, -4.5932, -4.5932, -4.5933, -4.5933, -4.0329, -3.6733, -3.6751, -4.0343, -4.5921, -4.5921, -4.5922, -4.5927, -4.5927, -4.5927, -4.593], \"loglift\": [30.0, 29.0, 28.0, 27.0, 26.0, 25.0, 24.0, 23.0, 22.0, 21.0, 20.0, 19.0, 18.0, 17.0, 16.0, 15.0, 14.0, 13.0, 12.0, 11.0, 10.0, 9.0, 8.0, 7.0, 6.0, 5.0, 4.0, 3.0, 2.0, 1.0, 0.7646, 0.7646, 0.7645, 0.7645, 0.7009, 0.7009, 0.7008, 0.7007, 0.7006, 0.5575, 0.5575, 0.5575, 0.5575, 0.5575, 0.5575, 0.5575, 0.5575, 0.5575, 0.5575, 0.5575, 0.5575, 0.5575, 0.5575, 0.5575, 0.5575, 0.5575, 0.5575, 0.5575, 0.5575, 0.5575, 0.113, 0.0435, -0.098, -0.2312, 0.169, 0.1794, 0.8981, 0.8981, 0.8977, 0.8977, 0.8977, 0.8971, 0.815, 0.741, 0.741, 0.741, 0.741, 0.741, 0.741, 0.741, 0.741, 0.741, 0.741, 0.741, 0.741, 0.741, 0.741, 0.741, 0.741, 0.741, 0.741, 0.741, 0.741, 0.741, 0.741, 0.741, 0.6206, 0.3826, 0.3826, 0.3819, 0.1876, -0.0875, -0.1016, 0.0415, 0.3116, 0.3115, 0.3114, 0.3114, 0.3114, 0.3113, 0.35, 0.3497, 0.9647, 0.9644, 0.8021, 0.8021, 0.8021, 0.8021, 0.8021, 0.8021, 0.802, 0.802, 0.802, 0.802, 0.802, 0.802, 0.802, 0.802, 0.802, 0.802, 0.802, 0.802, 0.802, 0.802, 0.8019, 0.8019, 0.8019, 0.8019, 0.8019, 0.8019, 0.8019, 0.8019, 0.6737, 0.4486, 0.3149, -0.0591, 0.3666, 0.3665, 0.3664, 0.3945, 0.366, 0.366, 0.3942]}, \"token.table\": {\"Topic\": [1, 1, 3, 1, 2, 1, 2, 3, 1, 2, 3, 2, 3, 2, 3, 3, 1, 1, 2, 3, 2, 2, 3, 2, 1, 1, 2, 3, 1, 2, 2, 2, 1, 2, 2, 1, 2, 3, 3, 3, 1, 2, 3, 2, 2, 1, 2, 2, 3, 1, 2, 1, 3, 3, 3, 3, 2, 3, 1, 1, 1, 3, 2, 3, 3, 1, 2, 2, 1, 2, 3, 1, 1, 3, 1, 3, 1, 2, 3, 1, 2, 2, 2, 2, 3, 1, 2, 3, 1, 3, 3, 3, 2, 2, 3, 1, 1, 3, 2, 3, 2, 3, 3, 1, 2, 1, 3, 1, 1, 1, 2, 2, 1, 3, 1, 1, 3, 3, 3, 3, 3, 3, 1, 1, 3, 1, 1, 1, 2, 3, 1, 1, 2, 1, 1, 1, 2, 2, 1, 1, 2, 3, 2, 2, 2, 2, 1, 3, 2], \"Freq\": [0.8248160148463441, 0.5439679410493657, 0.8743469509285465, 0.8248175288777544, 0.860177787779343, 0.8248148260347276, 0.8601778177515628, 0.8743524259851652, 0.5591441270562465, 0.5591441270562465, 0.8743477070969938, 0.581457203895801, 0.581457203895801, 0.8601774285152716, 0.8743436951975074, 0.8743449078620852, 0.8248122435969064, 0.3422610372304209, 0.3422610372304209, 0.3422610372304209, 0.5751469580738414, 0.4355394918212199, 0.4355394918212199, 0.8601777758681635, 0.8248156868726869, 0.21450035812257234, 0.21450035812257234, 0.4290007162451447, 0.8115798849678059, 0.8601773221399521, 0.8601773047035555, 0.5751352969996657, 0.8248144679419283, 0.8601771701224548, 0.860177700089631, 0.5439596217622346, 0.43915984793246704, 0.43915984793246704, 0.8743474654658667, 0.587895806896728, 0.42631621028066385, 0.42631621028066385, 0.42631621028066385, 0.8601774925016051, 0.8601778340330287, 0.2843824498895987, 0.853147349668796, 0.5814550163189484, 0.5814550163189484, 0.8248170141478484, 0.8601777791592485, 0.824816805012683, 0.8743597483489876, 0.8743503561976937, 0.8743442481081991, 0.8743436980635905, 0.8601777444807267, 0.8743491913589297, 0.5439594383933433, 0.8248145163269557, 0.565107574151023, 0.565107574151023, 0.8601772613616424, 0.8743451911606281, 0.8743452225745125, 0.559146377667773, 0.559146377667773, 0.8601778141340563, 0.42272660509194987, 0.21136330254597493, 0.21136330254597493, 0.8248154764640094, 0.5439624511870773, 0.8743601141005901, 0.8248173007912765, 0.8743457804192037, 0.34226715852504885, 0.34226715852504885, 0.34226715852504885, 0.559148185826523, 0.559148185826523, 0.8601774339971581, 0.8601776476519686, 0.8601771961110106, 0.8743516756076765, 0.34226521037923185, 0.34226521037923185, 0.34226521037923185, 0.5651034531834284, 0.5651034531834284, 0.8743423347001447, 0.5878835896102075, 0.5751520556041443, 0.5751520308440138, 0.8743517780977867, 0.8115735145362277, 0.8248155322542751, 0.8743623608640754, 0.5814607413917067, 0.5814607413917067, 0.8601777643628036, 0.874347355437788, 0.8743537520466056, 0.5591270430595269, 0.5591270430595269, 0.565094909776945, 0.565094909776945, 0.8248173649667557, 0.8248141182247828, 0.5591458012892561, 0.5591458012892561, 0.8601778479161735, 0.8248150334297205, 0.874348026670548, 0.8115715904203914, 0.5651023834656155, 0.5651023834656155, 0.8743498228215408, 0.8743652431119576, 0.8743601844305089, 0.8743483275496803, 0.8743407783030916, 0.8248157613582814, 0.8248167909280764, 0.874339914554711, 0.5439641898459403, 0.8115738087107951, 0.24474280134145246, 0.24474280134145246, 0.4894856026829049, 0.8248153663333659, 0.5591502145123084, 0.5591502145123084, 0.8248155629454483, 0.8248169690037751, 0.5591463633502667, 0.5591463633502667, 0.8601774333706548, 0.8248180953305292, 0.2818548662839945, 0.2818548662839945, 0.2818548662839945, 0.8601776744954219, 0.5751455470246972, 0.57514524917662, 0.8601777768324917, 0.5651009491711348, 0.5651009491711348, 0.8601778375392334], \"Term\": [\"ahead\", \"ai\", \"analysis\", \"analyzing\", \"application\", \"architecting\", \"big\", \"brand\", \"bring\", \"bring\", \"campaign\", \"collaborate\", \"collaborate\", \"collection\", \"compelling\", \"complex\", \"connectivity\", \"contribute\", \"contribute\", \"contribute\", \"crafting\", \"creating\", \"creating\", \"cs\", \"cybersecurity\", \"data\", \"data\", \"data\", \"database\", \"deploy\", \"deployment\", \"design\", \"designing\", \"develop\", \"developer\", \"digital\", \"drive\", \"drive\", \"driving\", \"dynamic\", \"engineer\", \"engineer\", \"engineer\", \"entire\", \"exceptional\", \"experience\", \"experience\", \"expertise\", \"expertise\", \"fortress\", \"frontend\", \"frontier\", \"group\", \"grow\", \"growth\", \"hear\", \"idea\", \"impactful\", \"implementing\", \"information\", \"innovate\", \"innovate\", \"innovation\", \"insight\", \"inspire\", \"intelligence\", \"intelligence\", \"javascript\", \"join\", \"join\", \"join\", \"juniper\", \"knowledge\", \"lasting\", \"latest\", \"lead\", \"learning\", \"learning\", \"learning\", \"let\", \"let\", \"library\", \"life\", \"lifecycle\", \"lookout\", \"machine\", \"machine\", \"machine\", \"manage\", \"manage\", \"manager\", \"marketing\", \"ml\", \"model\", \"narrative\", \"network\", \"networking\", \"new\", \"passionate\", \"passionate\", \"plus\", \"power\", \"problem\", \"proficiency\", \"proficiency\", \"project\", \"project\", \"protect\", \"protocol\", \"python\", \"python\", \"react\", \"risk\", \"scientist\", \"security\", \"seeking\", \"seeking\", \"shape\", \"software\", \"solution\", \"solve\", \"spearhead\", \"specialist\", \"staying\", \"strategy\", \"strong\", \"system\", \"team\", \"team\", \"team\", \"technological\", \"tensorflow\", \"tensorflow\", \"threat\", \"thrive\", \"together\", \"together\", \"transform\", \"troubleshooting\", \"u\", \"u\", \"u\", \"use\", \"user\", \"visually\", \"vue\", \"want\", \"want\", \"web\"]}, \"R\": 30, \"lambda.step\": 0.01, \"plot.opts\": {\"xlab\": \"PC1\", \"ylab\": \"PC2\"}, \"topic.order\": [3, 1, 2]};\n",
       "\n",
       "function LDAvis_load_lib(url, callback){\n",
       "  var s = document.createElement('script');\n",
       "  s.src = url;\n",
       "  s.async = true;\n",
       "  s.onreadystatechange = s.onload = callback;\n",
       "  s.onerror = function(){console.warn(\"failed to load library \" + url);};\n",
       "  document.getElementsByTagName(\"head\")[0].appendChild(s);\n",
       "}\n",
       "\n",
       "if(typeof(LDAvis) !== \"undefined\"){\n",
       "   // already loaded: just create the visualization\n",
       "   !function(LDAvis){\n",
       "       new LDAvis(\"#\" + \"ldavis_el1861230578698095849585440690\", ldavis_el1861230578698095849585440690_data);\n",
       "   }(LDAvis);\n",
       "}else if(typeof define === \"function\" && define.amd){\n",
       "   // require.js is available: use it to load d3/LDAvis\n",
       "   require.config({paths: {d3: \"https://d3js.org/d3.v5\"}});\n",
       "   require([\"d3\"], function(d3){\n",
       "      window.d3 = d3;\n",
       "      LDAvis_load_lib(\"https://cdn.jsdelivr.net/gh/bmabey/pyLDAvis@3.4.0/pyLDAvis/js/ldavis.v3.0.0.js\", function(){\n",
       "        new LDAvis(\"#\" + \"ldavis_el1861230578698095849585440690\", ldavis_el1861230578698095849585440690_data);\n",
       "      });\n",
       "    });\n",
       "}else{\n",
       "    // require.js not available: dynamically load d3 & LDAvis\n",
       "    LDAvis_load_lib(\"https://d3js.org/d3.v5.js\", function(){\n",
       "         LDAvis_load_lib(\"https://cdn.jsdelivr.net/gh/bmabey/pyLDAvis@3.4.0/pyLDAvis/js/ldavis.v3.0.0.js\", function(){\n",
       "                 new LDAvis(\"#\" + \"ldavis_el1861230578698095849585440690\", ldavis_el1861230578698095849585440690_data);\n",
       "            })\n",
       "         });\n",
       "}\n",
       "</script>"
      ],
      "text/plain": [
       "<IPython.core.display.HTML object>"
      ]
     },
     "execution_count": 8,
     "metadata": {},
     "output_type": "execute_result"
    }
   ],
   "source": [
    "# Visualize the topics\n",
    "vis = pyLDAvis.gensim_models.prepare(lda_model, corpus, dictionary)\n",
    "pyLDAvis.enable_notebook()\n",
    "pyLDAvis.display(vis)"
   ]
  }
 ],
 "metadata": {
  "kernelspec": {
   "display_name": "Python 3",
   "language": "python",
   "name": "python3"
  },
  "language_info": {
   "codemirror_mode": {
    "name": "ipython",
    "version": 3
   },
   "file_extension": ".py",
   "mimetype": "text/x-python",
   "name": "python",
   "nbconvert_exporter": "python",
   "pygments_lexer": "ipython3",
   "version": "3.8.8"
  }
 },
 "nbformat": 4,
 "nbformat_minor": 5
}
