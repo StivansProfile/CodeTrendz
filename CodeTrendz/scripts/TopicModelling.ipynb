{
 "cells": [
  {
   "cell_type": "code",
   "execution_count": 9,
   "metadata": {},
   "outputs": [],
   "source": [
    "import pandas as pd\n",
    "from nltk.corpus import stopwords\n",
    "from nltk.stem import WordNetLemmatizer\n",
    "from nltk.tokenize import word_tokenize\n",
    "from gensim import corpora, models\n",
    "import pyLDAvis.gensim_models\n",
    "import matplotlib.pyplot as plt"
   ]
  },
  {
   "cell_type": "code",
   "execution_count": 10,
   "metadata": {},
   "outputs": [
    {
     "name": "stderr",
     "output_type": "stream",
     "text": [
      "[nltk_data] Downloading package punkt to\n",
      "[nltk_data]     C:\\Users\\disco\\AppData\\Roaming\\nltk_data...\n",
      "[nltk_data]   Package punkt is already up-to-date!\n",
      "[nltk_data] Downloading package stopwords to\n",
      "[nltk_data]     C:\\Users\\disco\\AppData\\Roaming\\nltk_data...\n",
      "[nltk_data]   Package stopwords is already up-to-date!\n",
      "[nltk_data] Downloading package wordnet to\n",
      "[nltk_data]     C:\\Users\\disco\\AppData\\Roaming\\nltk_data...\n",
      "[nltk_data]   Package wordnet is already up-to-date!\n"
     ]
    },
    {
     "data": {
      "text/plain": [
       "True"
      ]
     },
     "execution_count": 10,
     "metadata": {},
     "output_type": "execute_result"
    }
   ],
   "source": [
    "import nltk\n",
    "nltk.download('punkt')\n",
    "nltk.download('stopwords')\n",
    "nltk.download('wordnet')"
   ]
  },
  {
   "cell_type": "code",
   "execution_count": 11,
   "metadata": {},
   "outputs": [],
   "source": [
    "job_postings = [\n",
    "    {\n",
    "        \"title\": \"Data Scientist\",\n",
    "        \"description\": \"We are looking for a skilled data scientist with expertise in machine learning and data analysis.\",\n",
    "    },\n",
    "    {\n",
    "        \"title\": \"Software Engineer\",\n",
    "        \"description\": \"Join our team as a software engineer to build innovative solutions and develop new features.\",\n",
    "    },\n",
    "    {\n",
    "        \"title\": \"Marketing Manager\",\n",
    "        \"description\": \"Seeking a marketing manager to lead campaigns, manage teams, and drive brand growth.\",\n",
    "    },\n",
    "    {\n",
    "        \"title\": \"Frontend Developer\",\n",
    "        \"description\": \"Are you passionate about creating exceptional user experiences? Join our team as a frontend developer where you will craft responsive and visually appealing web applications using HTML, CSS, and JavaScript. Experience with modern frameworks like React or Vue is a plus.\",\n",
    "    },\n",
    "    {\n",
    "        \"title\": \"Database Administrator\",\n",
    "        \"description\": \"Looking for a detail-oriented database administrator to manage and optimize our database systems. The role involves ensuring data security, troubleshooting, and performance tuning. Proficiency in SQL and experience with database management systems like MySQL or PostgreSQL is required.\",\n",
    "    },\n",
    "    {\n",
    "        \"title\": \"AI Researcher\",\n",
    "        \"description\": \"We are seeking an AI researcher to work on cutting-edge projects in artificial intelligence and machine learning. Candidates should have a strong background in mathematics, statistics, and programming. Knowledge of Python, TensorFlow, and neural networks is essential.\",\n",
    "    },\n",
    "    {\n",
    "        \"title\": \"Network Engineer\",\n",
    "        \"description\": \"Join our team as a network engineer responsible for designing, implementing, and maintaining our network infrastructure. Strong knowledge of networking protocols, security, and experience with Cisco or Juniper equipment is preferred.\",\n",
    "    },\n",
    "    {\n",
    "        \"title\": \"Cybersecurity Specialist\",\n",
    "        \"description\": \"We are looking for a cybersecurity specialist to protect our systems and information. The role involves analyzing security risks, implementing security measures, and staying updated with the latest threats and technologies in the field.\",\n",
    "    },\n",
    "    {\n",
    "        \"title\": \"UX/UI Designer\",\n",
    "        \"description\": \"Do you have a passion for creating intuitive and visually appealing designs? We're hiring a UX/UI designer to collaborate with cross-functional teams in creating user-centered designs. Proficiency in design tools and a strong portfolio is required.\",\n",
    "    },\n",
    "    {\n",
    "        \"title\": \"Machine Learning Engineer\",\n",
    "        \"description\": \"Join our team as a machine learning engineer to develop and deploy machine learning models. The role involves working on data collection, feature engineering, and model deployment. Proficiency in Python, TensorFlow, and experience with ML libraries is a must.\",\n",
    "    },\n",
    "]"
   ]
  },
  {
   "cell_type": "code",
   "execution_count": 12,
   "metadata": {},
   "outputs": [],
   "source": [
    "df = pd.DataFrame(job_postings)"
   ]
  },
  {
   "cell_type": "code",
   "execution_count": 13,
   "metadata": {},
   "outputs": [],
   "source": [
    "# Text preprocessing\n",
    "stop_words = set(stopwords.words('english'))\n",
    "lemmatizer = WordNetLemmatizer()\n",
    "\n",
    "def preprocess_text(text):\n",
    "    tokens = word_tokenize(text.lower())\n",
    "    tokens = [lemmatizer.lemmatize(token) for token in tokens if token.isalnum() and token not in stop_words]\n",
    "    return tokens\n",
    "\n",
    "df['tokens'] = df['description'].apply(preprocess_text)"
   ]
  },
  {
   "cell_type": "code",
   "execution_count": 14,
   "metadata": {},
   "outputs": [],
   "source": [
    "# Create a dictionary representation of the job descriptions\n",
    "dictionary = corpora.Dictionary(df['tokens'])\n",
    "\n",
    "# Create a bag-of-words corpus\n",
    "corpus = [dictionary.doc2bow(tokens) for tokens in df['tokens']]"
   ]
  },
  {
   "cell_type": "code",
   "execution_count": 15,
   "metadata": {},
   "outputs": [],
   "source": [
    "# Train an LDA model\n",
    "lda_model = models.LdaModel(corpus, num_topics=3, id2word=dictionary, passes=15)"
   ]
  },
  {
   "cell_type": "code",
   "execution_count": 16,
   "metadata": {},
   "outputs": [
    {
     "name": "stderr",
     "output_type": "stream",
     "text": [
      "c:\\Users\\disco\\AppData\\Local\\Programs\\Python\\Python38\\lib\\site-packages\\pyLDAvis\\_prepare.py:243: FutureWarning: In a future version of pandas all arguments of DataFrame.drop except for the argument 'labels' will be keyword-only.\n",
      "  default_term_info = default_term_info.sort_values(\n"
     ]
    },
    {
     "data": {
      "text/html": [
       "\n",
       "<link rel=\"stylesheet\" type=\"text/css\" href=\"https://cdn.jsdelivr.net/gh/bmabey/pyLDAvis@3.4.0/pyLDAvis/js/ldavis.v1.0.0.css\">\n",
       "\n",
       "\n",
       "<div id=\"ldavis_el2362424293897131845865300440\" style=\"background-color:white;\"></div>\n",
       "<script type=\"text/javascript\">\n",
       "\n",
       "var ldavis_el2362424293897131845865300440_data = {\"mdsDat\": {\"x\": [0.06844454601808785, -0.08397329852354779, 0.015528752505459984], \"y\": [-0.05147688673980678, -0.02737572021105814, 0.07885260695086489], \"topics\": [1, 2, 3], \"cluster\": [1, 1, 1], \"Freq\": [54.228527733264684, 26.145153588067892, 19.626318678667417]}, \"tinfo\": {\"Term\": [\"database\", \"design\", \"manage\", \"system\", \"required\", \"seeking\", \"strong\", \"creating\", \"data\", \"postgresql\", \"management\", \"mysql\", \"optimize\", \"performance\", \"sql\", \"ensuring\", \"tuning\", \"administrator\", \"troubleshooting\", \"manager\", \"drive\", \"marketing\", \"brand\", \"lead\", \"growth\", \"campaign\", \"learning\", \"machine\", \"like\", \"designer\", \"join\", \"engineer\", \"implementing\", \"feature\", \"develop\", \"model\", \"experience\", \"security\", \"cybersecurity\", \"latest\", \"updated\", \"specialist\", \"technology\", \"field\", \"information\", \"measure\", \"analyzing\", \"threat\", \"protect\", \"risk\", \"staying\", \"using\", \"plus\", \"vue\", \"user\", \"javascript\", \"exceptional\", \"html\", \"responsive\", \"craft\", \"team\", \"role\", \"involves\", \"network\", \"machine\", \"learning\", \"looking\", \"design\", \"designer\", \"hiring\", \"portfolio\", \"tool\", \"passion\", \"collaborate\", \"intuitive\", \"ai\", \"background\", \"researcher\", \"project\", \"statistic\", \"artificial\", \"candidate\", \"mathematics\", \"essential\", \"work\", \"neural\", \"intelligence\", \"programming\", \"scientist\", \"analysis\", \"expertise\", \"skilled\", \"strong\", \"creating\", \"seeking\", \"required\", \"data\", \"learning\", \"machine\", \"python\", \"tensorflow\", \"knowledge\", \"visually\", \"appealing\", \"proficiency\", \"network\", \"database\", \"manage\", \"postgresql\", \"management\", \"mysql\", \"optimize\", \"performance\", \"sql\", \"ensuring\", \"tuning\", \"administrator\", \"troubleshooting\", \"manager\", \"drive\", \"marketing\", \"brand\", \"lead\", \"growth\", \"campaign\", \"system\", \"required\", \"seeking\", \"like\", \"looking\", \"proficiency\", \"involves\", \"role\", \"data\", \"security\", \"experience\"], \"Freq\": [1.0, 2.0, 1.0, 2.0, 1.0, 1.0, 2.0, 2.0, 2.0, 1.0, 1.0, 1.0, 1.0, 1.0, 1.0, 1.0, 1.0, 1.0, 1.0, 1.0, 1.0, 1.0, 1.0, 1.0, 1.0, 1.0, 3.0, 3.0, 1.0, 1.0, 3.018981677088475, 2.3221692601760497, 1.6260099390027452, 1.6260452566264056, 1.6257980332607813, 1.6256287329060906, 3.020026069673868, 2.322503936705024, 0.9293763525974265, 0.9293761657316928, 0.9293748576715571, 0.9293748576715571, 0.9293746708058235, 0.9293735496114216, 0.9293730824470875, 0.9293725218498865, 0.9293713072226177, 0.9293710269240173, 0.9293699991624822, 0.9293692516995475, 0.929367943639412, 0.9291654746169977, 0.9291467880436323, 0.9291338943080102, 0.9291214677367221, 0.9291115638528384, 0.929103715492025, 0.9291016599689548, 0.9290964277284125, 0.9290931575780735, 3.026811911925785, 1.6250744891400724, 1.6250139446423686, 1.6230365314488404, 1.626220723550307, 1.6250636509275205, 0.9299811435443981, 1.7905666410080294, 0.7161433740494852, 0.7161415271344578, 0.7161410766673779, 0.716140761340422, 0.7161400405930942, 0.7161403108733422, 0.7161392747990585, 0.7161333736803122, 0.7161326979796924, 0.7161194092008362, 0.7161185082666764, 0.7161175622858087, 0.7161138684557538, 0.7161052194878202, 0.7161039131332887, 0.7160994985559059, 0.7160983723882063, 0.7160966155665948, 0.7160915703353002, 0.7160867052908376, 0.7150853620189938, 0.7149683306716434, 0.7147567462842284, 0.7144458339057018, 1.2575838122877483, 1.2564866546680162, 0.7170668315632196, 0.7154088874757567, 1.2512934899844386, 1.2546365863709885, 1.2536817763484953, 0.7177771280547591, 0.7177413159219095, 0.717725594620822, 0.7172107107485302, 0.7171928722521673, 0.7169813779581682, 0.7167258279837577, 1.5699591890304532, 1.0988929677576609, 0.6279418530935077, 0.6279415149424834, 0.6279413120518689, 0.6279407710102302, 0.6279405004894109, 0.6279401623383867, 0.6279396212967479, 0.6279396212967479, 0.6279385392134704, 0.6279375923906027, 0.6278377702082576, 0.6278362823437511, 0.6278345915886301, 0.6278329008335091, 0.6278325626824848, 0.62783249505228, 0.6278306014065445, 1.103871227135997, 0.6287054657363659, 0.6272158428445409, 0.6290759439984841, 0.6325151428052567, 0.6299996373362007, 0.6289122789027692, 0.6288961152838123, 0.6306308300379805, 0.6290733064204953, 0.6280450567860948], \"Total\": [1.0, 2.0, 1.0, 2.0, 1.0, 1.0, 2.0, 2.0, 2.0, 1.0, 1.0, 1.0, 1.0, 1.0, 1.0, 1.0, 1.0, 1.0, 1.0, 1.0, 1.0, 1.0, 1.0, 1.0, 1.0, 1.0, 3.0, 3.0, 1.0, 1.0, 3.356907788257629, 2.659720667618697, 1.962762371221131, 1.9628076167633044, 1.9627470292088205, 1.9627267728783027, 3.8282909213366803, 3.130805019398946, 1.265686005098471, 1.2656859082058678, 1.26568554120244, 1.2656855749573994, 1.2656855905612803, 1.2656850847370964, 1.2656851119739072, 1.265684727391164, 1.2656845430419474, 1.2656844712196929, 1.2656841253158662, 1.2656838736674336, 1.2656835511694282, 1.2656439392725556, 1.2656396398674463, 1.2656367516055858, 1.2656338132227032, 1.2656316627478246, 1.2656297552674485, 1.2656292424738411, 1.2656279690585845, 1.2656273615581053, 4.367462014737695, 2.433509968776458, 2.433493933538712, 2.499049396929568, 3.0372688057631896, 3.0370109680420683, 2.2734284770323674, 2.1801592005478585, 1.1057212457511083, 1.105721495983128, 1.1057214586306132, 1.1057217563888526, 1.1057209494068354, 1.1057213771510663, 1.1057217587982315, 1.1057167135856516, 1.1057169617568143, 1.1057153747687363, 1.1057150322593052, 1.1057154339252364, 1.1057142752100342, 1.105713829663146, 1.1057138327269591, 1.10571337539923, 1.105712305183455, 1.1057126383791207, 1.105711756887183, 1.10571147820245, 1.105993360334466, 1.1060280357157355, 1.1060904950875878, 1.106181866473572, 2.3383885448520987, 2.339240475764724, 1.5768731450269402, 1.576651940828678, 2.810615809706003, 3.0370109680420683, 3.0372688057631896, 1.8024189607000345, 1.8024295927144385, 1.8019528517297414, 1.802635163539958, 1.802641157485999, 2.2728345750809473, 2.499049396929568, 1.981560187413021, 1.5105625569384815, 1.0395327579569225, 1.0395329316084787, 1.0395328688492251, 1.039533137422945, 1.0395332452163684, 1.0395332891274993, 1.0395333028210831, 1.0395335105583847, 1.0395338095050035, 1.0395339475689793, 1.0395608191976562, 1.039561796078322, 1.039562085282226, 1.039562972705971, 1.0395624814204263, 1.0395626782443697, 1.0395636660079162, 2.2054254313000596, 1.576651940828678, 1.5768731450269402, 1.7361563698578684, 2.2734284770323674, 2.2728345750809473, 2.433493933538712, 2.433509968776458, 2.810615809706003, 3.130805019398946, 3.8282909213366803], \"Category\": [\"Default\", \"Default\", \"Default\", \"Default\", \"Default\", \"Default\", \"Default\", \"Default\", \"Default\", \"Default\", \"Default\", \"Default\", \"Default\", \"Default\", \"Default\", \"Default\", \"Default\", \"Default\", \"Default\", \"Default\", \"Default\", \"Default\", \"Default\", \"Default\", \"Default\", \"Default\", \"Default\", \"Default\", \"Default\", \"Default\", \"Topic1\", \"Topic1\", \"Topic1\", \"Topic1\", \"Topic1\", \"Topic1\", \"Topic1\", \"Topic1\", \"Topic1\", \"Topic1\", \"Topic1\", \"Topic1\", \"Topic1\", \"Topic1\", \"Topic1\", \"Topic1\", \"Topic1\", \"Topic1\", \"Topic1\", \"Topic1\", \"Topic1\", \"Topic1\", \"Topic1\", \"Topic1\", \"Topic1\", \"Topic1\", \"Topic1\", \"Topic1\", \"Topic1\", \"Topic1\", \"Topic1\", \"Topic1\", \"Topic1\", \"Topic1\", \"Topic1\", \"Topic1\", \"Topic1\", \"Topic2\", \"Topic2\", \"Topic2\", \"Topic2\", \"Topic2\", \"Topic2\", \"Topic2\", \"Topic2\", \"Topic2\", \"Topic2\", \"Topic2\", \"Topic2\", \"Topic2\", \"Topic2\", \"Topic2\", \"Topic2\", \"Topic2\", \"Topic2\", \"Topic2\", \"Topic2\", \"Topic2\", \"Topic2\", \"Topic2\", \"Topic2\", \"Topic2\", \"Topic2\", \"Topic2\", \"Topic2\", \"Topic2\", \"Topic2\", \"Topic2\", \"Topic2\", \"Topic2\", \"Topic2\", \"Topic2\", \"Topic2\", \"Topic2\", \"Topic2\", \"Topic2\", \"Topic3\", \"Topic3\", \"Topic3\", \"Topic3\", \"Topic3\", \"Topic3\", \"Topic3\", \"Topic3\", \"Topic3\", \"Topic3\", \"Topic3\", \"Topic3\", \"Topic3\", \"Topic3\", \"Topic3\", \"Topic3\", \"Topic3\", \"Topic3\", \"Topic3\", \"Topic3\", \"Topic3\", \"Topic3\", \"Topic3\", \"Topic3\", \"Topic3\", \"Topic3\", \"Topic3\", \"Topic3\", \"Topic3\", \"Topic3\"], \"logprob\": [30.0, 29.0, 28.0, 27.0, 26.0, 25.0, 24.0, 23.0, 22.0, 21.0, 20.0, 19.0, 18.0, 17.0, 16.0, 15.0, 14.0, 13.0, 12.0, 11.0, 10.0, 9.0, 8.0, 7.0, 6.0, 5.0, 4.0, 3.0, 2.0, 1.0, -3.5035, -3.7659, -4.1223, -4.1222, -4.1224, -4.1225, -3.5031, -3.7657, -4.6816, -4.6816, -4.6816, -4.6816, -4.6816, -4.6816, -4.6816, -4.6816, -4.6816, -4.6816, -4.6816, -4.6816, -4.6816, -4.6819, -4.6819, -4.6819, -4.6819, -4.6819, -4.6819, -4.6819, -4.6819, -4.6819, -3.5009, -4.1228, -4.1229, -4.1241, -4.1221, -4.1228, -4.681, -3.2963, -4.2127, -4.2127, -4.2127, -4.2127, -4.2127, -4.2127, -4.2127, -4.2127, -4.2127, -4.2128, -4.2128, -4.2128, -4.2128, -4.2128, -4.2128, -4.2128, -4.2128, -4.2128, -4.2128, -4.2128, -4.2142, -4.2144, -4.2147, -4.2151, -3.6497, -3.6505, -4.2114, -4.2138, -3.6547, -3.652, -3.6528, -4.2104, -4.2105, -4.2105, -4.2112, -4.2113, -4.2116, -4.2119, -3.141, -3.4978, -4.0574, -4.0574, -4.0574, -4.0574, -4.0574, -4.0574, -4.0574, -4.0574, -4.0574, -4.0574, -4.0575, -4.0575, -4.0575, -4.0575, -4.0575, -4.0575, -4.0575, -3.4932, -4.0561, -4.0585, -4.0556, -4.0501, -4.0541, -4.0558, -4.0558, -4.0531, -4.0556, -4.0572], \"loglift\": [30.0, 29.0, 28.0, 27.0, 26.0, 25.0, 24.0, 23.0, 22.0, 21.0, 20.0, 19.0, 18.0, 17.0, 16.0, 15.0, 14.0, 13.0, 12.0, 11.0, 10.0, 9.0, 8.0, 7.0, 6.0, 5.0, 4.0, 3.0, 2.0, 1.0, 0.5059, 0.4762, 0.4237, 0.4237, 0.4236, 0.4235, 0.3748, 0.3133, 0.3031, 0.3031, 0.3031, 0.3031, 0.3031, 0.3031, 0.3031, 0.3031, 0.3031, 0.3031, 0.3031, 0.3031, 0.3031, 0.3029, 0.3029, 0.3029, 0.3029, 0.3029, 0.3029, 0.3029, 0.3029, 0.3028, 0.2453, 0.2082, 0.2082, 0.1804, -0.0127, -0.0134, -0.2819, 1.1446, 0.9071, 0.9071, 0.9071, 0.9071, 0.9071, 0.9071, 0.9071, 0.9071, 0.9071, 0.9071, 0.9071, 0.9071, 0.9071, 0.9071, 0.9071, 0.9071, 0.9071, 0.9071, 0.9071, 0.9071, 0.9054, 0.9052, 0.9049, 0.9043, 0.7212, 0.72, 0.5535, 0.5513, 0.5323, 0.4575, 0.4566, 0.4208, 0.4207, 0.421, 0.4199, 0.4198, 0.1878, 0.0925, 1.3955, 1.3101, 1.1242, 1.1242, 1.1242, 1.1242, 1.1242, 1.1242, 1.1242, 1.1242, 1.1242, 1.1242, 1.124, 1.124, 1.124, 1.124, 1.124, 1.124, 1.124, 0.9362, 0.7089, 0.7064, 0.6131, 0.349, 0.3452, 0.2752, 0.2752, 0.1339, 0.0235, -0.1793]}, \"token.table\": {\"Topic\": [3, 2, 2, 1, 1, 2, 2, 2, 3, 3, 2, 2, 1, 1, 2, 1, 1, 2, 3, 3, 2, 2, 1, 3, 1, 3, 2, 1, 1, 3, 2, 1, 1, 3, 2, 1, 1, 1, 2, 2, 1, 3, 1, 1, 1, 2, 1, 3, 1, 2, 1, 3, 1, 2, 3, 1, 2, 3, 3, 3, 3, 2, 1, 1, 3, 1, 2, 2, 3, 2, 3, 1, 2, 3, 1, 2, 3, 2, 2, 1, 1, 2, 2, 3, 2, 1, 1, 1, 3, 2, 1, 3, 2, 3, 2, 1, 3, 2, 1, 1, 2, 1, 3, 1, 2, 3, 1, 1, 2, 1, 2, 3, 3, 1, 1, 1, 1, 2, 1, 2], \"Freq\": [0.9619696741524661, 0.9043907790424636, 0.9041362132858392, 0.7900862861109128, 0.5547415778493712, 0.5547415778493712, 0.9043927734495846, 0.9043905760576862, 0.9619426877017474, 0.9619420461664973, 0.9043931378742441, 0.9043869646226236, 0.7901219824837753, 0.42748918307472805, 0.42748918307472805, 0.7900853734431547, 0.35579391411186945, 0.35579391411186945, 0.35579391411186945, 1.0093057040124795, 0.9173641995948801, 0.9043870720967357, 1.0189800163937561, 0.9619437764762361, 0.7519586640617572, 0.9619701430307257, 0.9043935094290949, 0.7901204881112197, 0.7836395043228649, 0.26121316810762163, 0.9040851579877406, 1.0189485627216113, 0.7900859479652605, 0.9619429601770778, 0.9043868674280153, 0.7901208082434684, 1.018972051494803, 0.7900859309630685, 0.9043948332567392, 0.9043866524674918, 0.8218635651545108, 0.4109317825772554, 0.7901192972913548, 0.8936795971858141, 0.5549534767461168, 0.5549534767461168, 0.7900854339269034, 0.96194314230505, 0.6585422380905595, 0.3292711190452797, 0.5759849846254722, 0.5759849846254722, 0.4398642887175213, 0.4398642887175213, 0.4398642887175213, 0.6584863335787133, 0.32924316678935667, 0.6620050228351619, 0.9619704865460019, 0.9619446804197664, 0.9619435088655763, 0.9043931353682687, 0.7900861710334495, 1.0189905327816142, 0.9619705446226164, 0.8003043086932494, 0.4001521543466247, 0.9043941122586007, 0.9619702960879634, 0.9043873144815159, 0.9619701963373573, 0.7901143172986685, 0.9043868979792211, 0.9619706472409592, 0.43997922724507343, 0.43997922724507343, 0.43997922724507343, 0.9043950612014043, 0.9043921542395079, 0.7900865468707987, 0.5548099647218613, 0.5548099647218613, 0.6342553953121742, 0.6342553953121742, 0.9043918740925105, 0.7901216032258143, 0.79008670395903, 0.8218581496115991, 0.41092907480579954, 0.9041645599911989, 0.6388133363808013, 0.31940666819040064, 0.6341664217909649, 0.6341664217909649, 0.9040104799294241, 0.7900856419523136, 0.9619701557025842, 0.9043918257069528, 0.7900869052742686, 0.4276449276154187, 0.4276449276154187, 0.4534272552622727, 0.4534272552622727, 0.6868977886646088, 0.2289659295548696, 0.2289659295548696, 0.79008563221182, 0.5548066920572533, 0.5548066920572533, 0.7900863309449766, 0.9043866544381595, 0.9619695463900605, 0.961969950793458, 0.7900856630233521, 0.7901179547768911, 0.790111633272437, 0.5547434224217792, 0.5547434224217792, 0.7901161203887299, 0.9043943847889839], \"Term\": [\"administrator\", \"ai\", \"analysis\", \"analyzing\", \"appealing\", \"appealing\", \"artificial\", \"background\", \"brand\", \"campaign\", \"candidate\", \"collaborate\", \"craft\", \"creating\", \"creating\", \"cybersecurity\", \"data\", \"data\", \"data\", \"database\", \"design\", \"designer\", \"develop\", \"drive\", \"engineer\", \"ensuring\", \"essential\", \"exceptional\", \"experience\", \"experience\", \"expertise\", \"feature\", \"field\", \"growth\", \"hiring\", \"html\", \"implementing\", \"information\", \"intelligence\", \"intuitive\", \"involves\", \"involves\", \"javascript\", \"join\", \"knowledge\", \"knowledge\", \"latest\", \"lead\", \"learning\", \"learning\", \"like\", \"like\", \"looking\", \"looking\", \"looking\", \"machine\", \"machine\", \"manage\", \"management\", \"manager\", \"marketing\", \"mathematics\", \"measure\", \"model\", \"mysql\", \"network\", \"network\", \"neural\", \"optimize\", \"passion\", \"performance\", \"plus\", \"portfolio\", \"postgresql\", \"proficiency\", \"proficiency\", \"proficiency\", \"programming\", \"project\", \"protect\", \"python\", \"python\", \"required\", \"required\", \"researcher\", \"responsive\", \"risk\", \"role\", \"role\", \"scientist\", \"security\", \"security\", \"seeking\", \"seeking\", \"skilled\", \"specialist\", \"sql\", \"statistic\", \"staying\", \"strong\", \"strong\", \"system\", \"system\", \"team\", \"team\", \"team\", \"technology\", \"tensorflow\", \"tensorflow\", \"threat\", \"tool\", \"troubleshooting\", \"tuning\", \"updated\", \"user\", \"using\", \"visually\", \"visually\", \"vue\", \"work\"]}, \"R\": 30, \"lambda.step\": 0.01, \"plot.opts\": {\"xlab\": \"PC1\", \"ylab\": \"PC2\"}, \"topic.order\": [3, 1, 2]};\n",
       "\n",
       "function LDAvis_load_lib(url, callback){\n",
       "  var s = document.createElement('script');\n",
       "  s.src = url;\n",
       "  s.async = true;\n",
       "  s.onreadystatechange = s.onload = callback;\n",
       "  s.onerror = function(){console.warn(\"failed to load library \" + url);};\n",
       "  document.getElementsByTagName(\"head\")[0].appendChild(s);\n",
       "}\n",
       "\n",
       "if(typeof(LDAvis) !== \"undefined\"){\n",
       "   // already loaded: just create the visualization\n",
       "   !function(LDAvis){\n",
       "       new LDAvis(\"#\" + \"ldavis_el2362424293897131845865300440\", ldavis_el2362424293897131845865300440_data);\n",
       "   }(LDAvis);\n",
       "}else if(typeof define === \"function\" && define.amd){\n",
       "   // require.js is available: use it to load d3/LDAvis\n",
       "   require.config({paths: {d3: \"https://d3js.org/d3.v5\"}});\n",
       "   require([\"d3\"], function(d3){\n",
       "      window.d3 = d3;\n",
       "      LDAvis_load_lib(\"https://cdn.jsdelivr.net/gh/bmabey/pyLDAvis@3.4.0/pyLDAvis/js/ldavis.v3.0.0.js\", function(){\n",
       "        new LDAvis(\"#\" + \"ldavis_el2362424293897131845865300440\", ldavis_el2362424293897131845865300440_data);\n",
       "      });\n",
       "    });\n",
       "}else{\n",
       "    // require.js not available: dynamically load d3 & LDAvis\n",
       "    LDAvis_load_lib(\"https://d3js.org/d3.v5.js\", function(){\n",
       "         LDAvis_load_lib(\"https://cdn.jsdelivr.net/gh/bmabey/pyLDAvis@3.4.0/pyLDAvis/js/ldavis.v3.0.0.js\", function(){\n",
       "                 new LDAvis(\"#\" + \"ldavis_el2362424293897131845865300440\", ldavis_el2362424293897131845865300440_data);\n",
       "            })\n",
       "         });\n",
       "}\n",
       "</script>"
      ],
      "text/plain": [
       "<IPython.core.display.HTML object>"
      ]
     },
     "execution_count": 16,
     "metadata": {},
     "output_type": "execute_result"
    }
   ],
   "source": [
    "# Visualize the topics\n",
    "vis = pyLDAvis.gensim_models.prepare(lda_model, corpus, dictionary)\n",
    "pyLDAvis.enable_notebook()\n",
    "pyLDAvis.display(vis)"
   ]
  }
 ],
 "metadata": {
  "kernelspec": {
   "display_name": "Python 3",
   "language": "python",
   "name": "python3"
  },
  "language_info": {
   "codemirror_mode": {
    "name": "ipython",
    "version": 3
   },
   "file_extension": ".py",
   "mimetype": "text/x-python",
   "name": "python",
   "nbconvert_exporter": "python",
   "pygments_lexer": "ipython3",
   "version": "3.8.8"
  }
 },
 "nbformat": 4,
 "nbformat_minor": 5
}
