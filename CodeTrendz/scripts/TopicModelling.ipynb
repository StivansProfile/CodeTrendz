{
 "cells": [
  {
   "cell_type": "code",
   "execution_count": 1,
   "metadata": {},
   "outputs": [],
   "source": [
    "import pandas as pd\n",
    "from nltk.corpus import stopwords\n",
    "from nltk.stem import WordNetLemmatizer\n",
    "from nltk.tokenize import word_tokenize\n",
    "from gensim import corpora, models\n",
    "import pyLDAvis.gensim_models\n",
    "import matplotlib.pyplot as plt"
   ]
  },
  {
   "cell_type": "code",
   "execution_count": 2,
   "metadata": {},
   "outputs": [
    {
     "name": "stderr",
     "output_type": "stream",
     "text": [
      "[nltk_data] Downloading package punkt to\n",
      "[nltk_data]     C:\\Users\\disco\\AppData\\Roaming\\nltk_data...\n",
      "[nltk_data]   Package punkt is already up-to-date!\n",
      "[nltk_data] Downloading package stopwords to\n",
      "[nltk_data]     C:\\Users\\disco\\AppData\\Roaming\\nltk_data...\n",
      "[nltk_data]   Package stopwords is already up-to-date!\n",
      "[nltk_data] Downloading package wordnet to\n",
      "[nltk_data]     C:\\Users\\disco\\AppData\\Roaming\\nltk_data...\n",
      "[nltk_data]   Package wordnet is already up-to-date!\n"
     ]
    },
    {
     "data": {
      "text/plain": [
       "True"
      ]
     },
     "execution_count": 2,
     "metadata": {},
     "output_type": "execute_result"
    }
   ],
   "source": [
    "import nltk\n",
    "nltk.download('punkt')\n",
    "nltk.download('stopwords')\n",
    "nltk.download('wordnet')"
   ]
  },
  {
   "cell_type": "code",
   "execution_count": 3,
   "metadata": {},
   "outputs": [],
   "source": [
    "job_postings = [\n",
    "    {\n",
    "        \"title\": \"Data Scientist\",\n",
    "        \"description\": \"Unlock the power of data! We are seeking a skilled Data Scientist with expertise in machine learning and data analysis. Join our dynamic team to drive data-driven insights, solve complex problems, and contribute to cutting-edge projects that shape the future.\"\n",
    "    },\n",
    "    {\n",
    "        \"title\": \"Software Engineer\",\n",
    "        \"description\": \"Innovate with us! Join our team as a Software Engineer and play a pivotal role in building groundbreaking solutions and developing new features. Collaborate with a diverse and talented group of professionals, and make a lasting impact in the world of technology.\"\n",
    "    },\n",
    "    {\n",
    "        \"title\": \"Marketing Manager\",\n",
    "        \"description\": \"Lead, inspire, grow! We're on the lookout for a dynamic Marketing Manager to spearhead campaigns, manage teams, and drive brand growth. If you're passionate about creating compelling narratives and driving impactful marketing strategies, we want to hear from you.\"\n",
    "    },\n",
    "    {\n",
    "        \"title\": \"Frontend Developer\",\n",
    "        \"description\": \"Crafting exceptional user experiences! Are you passionate about creating visually stunning web applications? Join us as a Frontend Developer, where you'll use your expertise in HTML, CSS, and JavaScript to bring ideas to life. Experience with React or Vue is a big plus.\"\n",
    "    },\n",
    "    {\n",
    "        \"title\": \"Database Administrator\",\n",
    "        \"description\": \"Master of data integrity! We're seeking a detail-oriented Database Administrator to manage and optimize our database systems. If you excel in ensuring data security, troubleshooting, and performance tuning, and have a proficiency in SQL and database management systems, we want you on our team.\"\n",
    "    },\n",
    "    {\n",
    "        \"title\": \"AI Researcher\",\n",
    "        \"description\": \"Pioneer in AI! Join our team as an AI Researcher and work on cutting-edge projects in artificial intelligence and machine learning. If you have a strong background in mathematics, statistics, and programming, and possess knowledge of Python, TensorFlow, and neural networks, let's innovate together.\"\n",
    "    },\n",
    "    {\n",
    "        \"title\": \"Network Engineer\",\n",
    "        \"description\": \"Architecting connectivity! Join us as a Network Engineer responsible for designing, implementing, and maintaining our network infrastructure. Bring your strong knowledge of networking protocols, security, and experience with Cisco or Juniper equipment to contribute to the backbone of our technological ecosystem.\"\n",
    "    },\n",
    "    {\n",
    "        \"title\": \"Cybersecurity Specialist\",\n",
    "        \"description\": \"Guardian of digital fortresses! We're looking for a Cybersecurity Specialist to protect our systems and information. If you thrive in analyzing security risks, implementing measures, and staying ahead of the latest threats, join us in safeguarding the digital frontier.\"\n",
    "    },\n",
    "    {\n",
    "        \"title\": \"UX/UI Designer\",\n",
    "        \"description\": \"Crafting user-centric experiences! We're hiring a UX/UI Designer with a passion for creating intuitive and visually appealing designs. Collaborate with cross-functional teams, showcase your proficiency in design tools, and contribute to shaping products that users love.\"\n",
    "    },\n",
    "    {\n",
    "        \"title\": \"Machine Learning Engineer\",\n",
    "        \"description\": \"Transform data into intelligence! Join us as a Machine Learning Engineer to develop and deploy machine learning models. Contribute to the entire ML lifecycle – from data collection to model deployment. If you're proficient in Python, TensorFlow, and have experience with ML libraries, let's drive innovation together.\"\n",
    "    }\n",
    "]\n"
   ]
  },
  {
   "cell_type": "code",
   "execution_count": 4,
   "metadata": {},
   "outputs": [],
   "source": [
    "df = pd.DataFrame(job_postings)"
   ]
  },
  {
   "cell_type": "code",
   "execution_count": 5,
   "metadata": {},
   "outputs": [],
   "source": [
    "# Text preprocessing\n",
    "stop_words = set(stopwords.words('english'))\n",
    "lemmatizer = WordNetLemmatizer()\n",
    "\n",
    "def preprocess_text(text):\n",
    "    tokens = word_tokenize(text.lower())\n",
    "    tokens = [lemmatizer.lemmatize(token) for token in tokens if token.isalnum() and token not in stop_words]\n",
    "    return tokens\n",
    "\n",
    "df['tokens'] = df['description'].apply(preprocess_text)"
   ]
  },
  {
   "cell_type": "code",
   "execution_count": 6,
   "metadata": {},
   "outputs": [],
   "source": [
    "# Create a dictionary representation of the job descriptions\n",
    "dictionary = corpora.Dictionary(df['tokens'])\n",
    "\n",
    "# Create a bag-of-words corpus\n",
    "corpus = [dictionary.doc2bow(tokens) for tokens in df['tokens']]"
   ]
  },
  {
   "cell_type": "code",
   "execution_count": 7,
   "metadata": {},
   "outputs": [],
   "source": [
    "# Train an LDA model\n",
    "lda_model = models.LdaModel(corpus, num_topics=3, id2word=dictionary, passes=15)"
   ]
  },
  {
   "cell_type": "code",
   "execution_count": 8,
   "metadata": {},
   "outputs": [
    {
     "name": "stderr",
     "output_type": "stream",
     "text": [
      "c:\\Users\\disco\\AppData\\Local\\Programs\\Python\\Python38\\lib\\site-packages\\pyLDAvis\\_prepare.py:243: FutureWarning: In a future version of pandas all arguments of DataFrame.drop except for the argument 'labels' will be keyword-only.\n",
      "  default_term_info = default_term_info.sort_values(\n"
     ]
    },
    {
     "data": {
      "text/html": [
       "\n",
       "<link rel=\"stylesheet\" type=\"text/css\" href=\"https://cdn.jsdelivr.net/gh/bmabey/pyLDAvis@3.4.0/pyLDAvis/js/ldavis.v1.0.0.css\">\n",
       "\n",
       "\n",
       "<div id=\"ldavis_el2510822001930137924072133957\" style=\"background-color:white;\"></div>\n",
       "<script type=\"text/javascript\">\n",
       "\n",
       "var ldavis_el2510822001930137924072133957_data = {\"mdsDat\": {\"x\": [0.07096139562310214, 0.018265853569984194, -0.0892272491930863], \"y\": [0.05764507201282362, -0.08590398573217305, 0.028258913719349438], \"topics\": [1, 2, 3], \"cluster\": [1, 1, 1], \"Freq\": [42.60361690239065, 29.48991296856362, 27.90647012904573]}, \"tinfo\": {\"Term\": [\"database\", \"design\", \"collaborate\", \"proficiency\", \"data\", \"marketing\", \"digital\", \"ai\", \"system\", \"team\", \"experience\", \"want\", \"manage\", \"innovate\", \"contribute\", \"hiring\", \"product\", \"appealing\", \"designer\", \"showcase\", \"tool\", \"passion\", \"intuitive\", \"shaping\", \"love\", \"diverse\", \"talented\", \"new\", \"impact\", \"software\", \"ml\", \"model\", \"bring\", \"expertise\", \"experience\", \"data\", \"contribute\", \"machine\", \"learning\", \"protocol\", \"juniper\", \"deploy\", \"cisco\", \"technological\", \"equipment\", \"connectivity\", \"backbone\", \"maintaining\", \"architecting\", \"problem\", \"future\", \"proficient\", \"scientist\", \"library\", \"designing\", \"ecosystem\", \"solve\", \"networking\", \"unlock\", \"complex\", \"join\", \"u\", \"engineer\", \"network\", \"drive\", \"knowledge\", \"project\", \"intelligence\", \"together\", \"strong\", \"tensorflow\", \"let\", \"python\", \"digital\", \"marketing\", \"ai\", \"strategy\", \"compelling\", \"lead\", \"driving\", \"growth\", \"brand\", \"risk\", \"thrive\", \"looking\", \"guardian\", \"campaign\", \"threat\", \"latest\", \"manager\", \"information\", \"narrative\", \"measure\", \"hear\", \"spearhead\", \"protect\", \"impactful\", \"inspire\", \"safeguarding\", \"grow\", \"specialist\", \"cybersecurity\", \"staying\", \"team\", \"join\", \"creating\", \"passionate\", \"dynamic\", \"security\", \"implementing\", \"want\", \"innovate\", \"database\", \"design\", \"collaborate\", \"proficiency\", \"hiring\", \"appealing\", \"product\", \"designer\", \"showcase\", \"tool\", \"passion\", \"intuitive\", \"shaping\", \"love\", \"diverse\", \"talented\", \"new\", \"impact\", \"software\", \"developing\", \"role\", \"feature\", \"building\", \"technology\", \"world\", \"group\", \"solution\", \"pivotal\", \"lasting\", \"master\", \"system\", \"team\", \"data\", \"visually\", \"user\", \"creating\", \"crafting\", \"security\", \"seeking\", \"manage\", \"want\", \"innovate\"], \"Freq\": [2.0, 1.0, 1.0, 1.0, 4.0, 1.0, 1.0, 1.0, 2.0, 3.0, 3.0, 1.0, 1.0, 1.0, 3.0, 1.0, 1.0, 1.0, 1.0, 1.0, 1.0, 1.0, 1.0, 1.0, 1.0, 1.0, 1.0, 1.0, 1.0, 1.0, 1.5022508743306897, 1.5022199780907979, 1.5014845675911066, 1.5014136762186685, 2.7922459804339246, 3.4370689047380623, 2.149103451623711, 2.155639256208732, 2.1553766881635665, 0.8583747348017494, 0.858370535312832, 0.858367235714397, 0.8583664358117461, 0.8583658358847579, 0.8583654359334324, 0.8583644360551188, 0.8583636361524678, 0.8583631362133111, 0.8583626362741542, 0.8583602365662014, 0.8583601365783701, 0.8583603365540328, 0.8583595366513819, 0.8583599366027074, 0.8583595366513819, 0.8583595366513819, 0.8583588367365623, 0.8583588367365623, 0.8583584367852368, 0.8583578368582486, 2.7975559342064074, 2.1492356355367757, 1.503213457183243, 1.508512412294276, 1.5033714379568002, 0.8612370864502424, 0.8612346867422896, 0.8612030905875783, 0.8611687947614199, 0.8610988032794643, 0.8610434100208879, 0.8608563327884036, 0.8608332355993582, 1.3072432809630499, 1.3072893753876804, 1.3061516874716537, 0.7470917209565889, 0.7470697119069907, 0.7470583613279526, 0.747055177628954, 0.747052201562499, 0.7470510941889342, 0.7470223024762522, 0.747005276607695, 0.7469996705290238, 0.7469923341791577, 0.7470217487894698, 0.7469906731188106, 0.7469889428476159, 0.7470184958796235, 0.746983544401488, 0.7470079066199112, 0.7469733011960146, 0.7469998781615672, 0.7469930954984835, 0.7469599435023904, 0.746991226805593, 0.7469905346971151, 0.7469474163389398, 0.746978838063838, 0.7469427100012899, 0.7469364810249884, 0.7469319823198819, 1.3072580920844779, 1.3045314615248118, 0.7481151417629088, 0.7478292317506746, 0.747644231154523, 0.7475721134511224, 0.7475438062143749, 0.7470978807220425, 0.7470689505876649, 1.8207179052272542, 1.274773406282226, 1.2746945507673872, 1.2745795422258117, 0.7283832819858995, 0.7283826925343767, 0.7283824960505357, 0.7283816446205582, 0.7283809896744217, 0.728380924179808, 0.7283778459329663, 0.7283778459329663, 0.7283763395568522, 0.7283688731708958, 0.7283505346790728, 0.7283467359914809, 0.7283401865301156, 0.7283335715741366, 0.7283333750902956, 0.7283272840912258, 0.7283230269413383, 0.7283202761675649, 0.7283187042968372, 0.7283168704476549, 0.7283111724162671, 0.7283058673525611, 0.7282990559127411, 0.7282989249235139, 0.7282922444729212, 0.7282903451291253, 1.276372522769189, 1.8264742268212575, 1.2722880166833042, 0.730132774105811, 0.7301034980135078, 0.7300569313432003, 0.7300000165239354, 0.7290866286419241, 0.7289661840474154, 0.7284751709288554, 0.7284743194988779, 0.7283605553549618], \"Total\": [2.0, 1.0, 1.0, 1.0, 4.0, 1.0, 1.0, 1.0, 2.0, 3.0, 3.0, 1.0, 1.0, 1.0, 3.0, 1.0, 1.0, 1.0, 1.0, 1.0, 1.0, 1.0, 1.0, 1.0, 1.0, 1.0, 1.0, 1.0, 1.0, 1.0, 1.871440216927804, 1.8714361044680654, 1.871330586986203, 1.8713229895952412, 3.7060158231032787, 4.896454537050224, 3.062195566362072, 3.07718259425309, 3.0771486355619375, 1.227524668896087, 1.2275241489610633, 1.227523937400702, 1.2275235816509902, 1.227523543542053, 1.2275233776974261, 1.2275233082190655, 1.2275232300356236, 1.2275231488475296, 1.2275231129450195, 1.2275224446274475, 1.22752237889564, 1.2275229443808375, 1.2275223023459025, 1.2275229753774781, 1.2275226564523987, 1.227522754464061, 1.227522324269434, 1.227522648415799, 1.2275222090544842, 1.227522059347407, 4.827918352623043, 3.6227614843869134, 2.4179785733072197, 2.432847653858994, 2.4321822712692622, 1.788493238459206, 1.7884923513202575, 1.788488935670078, 1.788484090996784, 1.7884751611427205, 1.7884682933283889, 1.7884439902267086, 1.7884411487408498, 1.7048445770564185, 1.7049371967892375, 1.705121964095275, 1.1442771984252147, 1.1442755817099206, 1.1442789909572686, 1.1442820995224305, 1.1442809634617568, 1.144279774265836, 1.1442414897556012, 1.1442409036955266, 1.1442410002255203, 1.1442409304984478, 1.144287618326674, 1.1442405512895497, 1.1442409950932317, 1.1442886104056782, 1.144240463561945, 1.1442856506165282, 1.1442401227124648, 1.1442885221900976, 1.1442850757377656, 1.1442397941884304, 1.1442904056663399, 1.1442894932084295, 1.1442399348657837, 1.1442892237455742, 1.1442392349646928, 1.144239430229512, 1.1442391374886718, 3.987147857247431, 4.827918352623043, 2.334167197509197, 1.7879498252475008, 1.7880826568120884, 2.3344212514033464, 1.7880558291517965, 1.6906953694823526, 1.6907200298368061, 2.222927353723107, 1.6764431965646132, 1.676444520733351, 1.6764793654678694, 1.130044415319113, 1.1300443988834004, 1.1300441770663143, 1.1300443908970579, 1.1300443358405443, 1.1300442721854203, 1.130044500708146, 1.130044537339886, 1.1300445689161847, 1.1300447329888321, 1.1300433062768471, 1.1300432140112262, 1.1300434684935579, 1.130043796015067, 1.1300436050870604, 1.1300439740037644, 1.1300439404803515, 1.1300441717398853, 1.1300439491817675, 1.1300443573645451, 1.1300442458586093, 1.1300444277061763, 1.130044550750677, 1.1300446063749363, 1.1300447701040293, 1.1300639103352392, 2.237053675686475, 3.987147857247431, 4.896454537050224, 1.7735797484209155, 1.7735774433705545, 2.334167197509197, 1.7735915599411674, 2.3344212514033464, 1.7738369646061778, 1.690717897439896, 1.6906953694823526, 1.6907200298368061], \"Category\": [\"Default\", \"Default\", \"Default\", \"Default\", \"Default\", \"Default\", \"Default\", \"Default\", \"Default\", \"Default\", \"Default\", \"Default\", \"Default\", \"Default\", \"Default\", \"Default\", \"Default\", \"Default\", \"Default\", \"Default\", \"Default\", \"Default\", \"Default\", \"Default\", \"Default\", \"Default\", \"Default\", \"Default\", \"Default\", \"Default\", \"Topic1\", \"Topic1\", \"Topic1\", \"Topic1\", \"Topic1\", \"Topic1\", \"Topic1\", \"Topic1\", \"Topic1\", \"Topic1\", \"Topic1\", \"Topic1\", \"Topic1\", \"Topic1\", \"Topic1\", \"Topic1\", \"Topic1\", \"Topic1\", \"Topic1\", \"Topic1\", \"Topic1\", \"Topic1\", \"Topic1\", \"Topic1\", \"Topic1\", \"Topic1\", \"Topic1\", \"Topic1\", \"Topic1\", \"Topic1\", \"Topic1\", \"Topic1\", \"Topic1\", \"Topic1\", \"Topic1\", \"Topic1\", \"Topic1\", \"Topic1\", \"Topic1\", \"Topic1\", \"Topic1\", \"Topic1\", \"Topic1\", \"Topic2\", \"Topic2\", \"Topic2\", \"Topic2\", \"Topic2\", \"Topic2\", \"Topic2\", \"Topic2\", \"Topic2\", \"Topic2\", \"Topic2\", \"Topic2\", \"Topic2\", \"Topic2\", \"Topic2\", \"Topic2\", \"Topic2\", \"Topic2\", \"Topic2\", \"Topic2\", \"Topic2\", \"Topic2\", \"Topic2\", \"Topic2\", \"Topic2\", \"Topic2\", \"Topic2\", \"Topic2\", \"Topic2\", \"Topic2\", \"Topic2\", \"Topic2\", \"Topic2\", \"Topic2\", \"Topic2\", \"Topic2\", \"Topic2\", \"Topic2\", \"Topic2\", \"Topic3\", \"Topic3\", \"Topic3\", \"Topic3\", \"Topic3\", \"Topic3\", \"Topic3\", \"Topic3\", \"Topic3\", \"Topic3\", \"Topic3\", \"Topic3\", \"Topic3\", \"Topic3\", \"Topic3\", \"Topic3\", \"Topic3\", \"Topic3\", \"Topic3\", \"Topic3\", \"Topic3\", \"Topic3\", \"Topic3\", \"Topic3\", \"Topic3\", \"Topic3\", \"Topic3\", \"Topic3\", \"Topic3\", \"Topic3\", \"Topic3\", \"Topic3\", \"Topic3\", \"Topic3\", \"Topic3\", \"Topic3\", \"Topic3\", \"Topic3\", \"Topic3\", \"Topic3\", \"Topic3\", \"Topic3\"], \"logprob\": [30.0, 29.0, 28.0, 27.0, 26.0, 25.0, 24.0, 23.0, 22.0, 21.0, 20.0, 19.0, 18.0, 17.0, 16.0, 15.0, 14.0, 13.0, 12.0, 11.0, 10.0, 9.0, 8.0, 7.0, 6.0, 5.0, 4.0, 3.0, 2.0, 1.0, -4.2692, -4.2693, -4.2697, -4.2698, -3.6494, -3.4416, -3.9111, -3.9081, -3.9082, -4.8289, -4.8289, -4.8289, -4.8289, -4.8289, -4.8289, -4.8289, -4.8289, -4.8289, -4.8289, -4.8289, -4.8289, -4.8289, -4.8289, -4.8289, -4.8289, -4.8289, -4.8289, -4.8289, -4.8289, -4.8289, -3.6475, -3.9111, -4.2686, -4.2651, -4.2685, -4.8256, -4.8256, -4.8256, -4.8257, -4.8257, -4.8258, -4.826, -4.8261, -4.0404, -4.0404, -4.0412, -4.5999, -4.5999, -4.5999, -4.5999, -4.5999, -4.5999, -4.6, -4.6, -4.6, -4.6, -4.6, -4.6, -4.6, -4.6, -4.6, -4.6, -4.6, -4.6, -4.6, -4.6001, -4.6, -4.6, -4.6001, -4.6, -4.6001, -4.6001, -4.6001, -4.0404, -4.0425, -4.5985, -4.5989, -4.5991, -4.5992, -4.5993, -4.5999, -4.5999, -3.6539, -4.0103, -4.0104, -4.0105, -4.57, -4.57, -4.57, -4.57, -4.57, -4.57, -4.5701, -4.5701, -4.5701, -4.5701, -4.5701, -4.5701, -4.5701, -4.5701, -4.5701, -4.5701, -4.5701, -4.5701, -4.5701, -4.5701, -4.5701, -4.5702, -4.5702, -4.5702, -4.5702, -4.5702, -4.0091, -3.6507, -4.0123, -4.5676, -4.5677, -4.5678, -4.5678, -4.5691, -4.5692, -4.5699, -4.5699, -4.5701], \"loglift\": [30.0, 29.0, 28.0, 27.0, 26.0, 25.0, 24.0, 23.0, 22.0, 21.0, 20.0, 19.0, 18.0, 17.0, 16.0, 15.0, 14.0, 13.0, 12.0, 11.0, 10.0, 9.0, 8.0, 7.0, 6.0, 5.0, 4.0, 3.0, 2.0, 1.0, 0.6335, 0.6335, 0.633, 0.633, 0.5701, 0.4993, 0.4991, 0.4973, 0.4972, 0.4955, 0.4955, 0.4955, 0.4955, 0.4955, 0.4955, 0.4955, 0.4955, 0.4955, 0.4955, 0.4955, 0.4955, 0.4955, 0.4955, 0.4955, 0.4955, 0.4955, 0.4955, 0.4955, 0.4955, 0.4955, 0.3076, 0.3311, 0.3779, 0.3753, 0.3722, 0.1225, 0.1225, 0.1224, 0.1224, 0.1223, 0.1223, 0.1221, 0.122, 0.9556, 0.9555, 0.9546, 0.7948, 0.7948, 0.7947, 0.7947, 0.7947, 0.7947, 0.7947, 0.7947, 0.7947, 0.7947, 0.7947, 0.7947, 0.7947, 0.7947, 0.7947, 0.7947, 0.7947, 0.7946, 0.7946, 0.7946, 0.7946, 0.7946, 0.7946, 0.7946, 0.7946, 0.7946, 0.7946, 0.106, -0.0874, 0.0833, 0.3495, 0.3491, 0.0824, 0.349, 0.4044, 0.4044, 1.0767, 1.0024, 1.0023, 1.0022, 0.8371, 0.8371, 0.8371, 0.8371, 0.8371, 0.8371, 0.8371, 0.8371, 0.8371, 0.8371, 0.8371, 0.8371, 0.8371, 0.8371, 0.8371, 0.8371, 0.837, 0.837, 0.837, 0.837, 0.837, 0.837, 0.837, 0.837, 0.837, 0.837, 0.7152, 0.4956, -0.0714, 0.3888, 0.3887, 0.114, 0.3886, 0.1126, 0.387, 0.4344, 0.4344, 0.4342]}, \"token.table\": {\"Topic\": [2, 3, 1, 1, 2, 1, 3, 2, 1, 3, 2, 1, 1, 1, 3, 1, 3, 1, 2, 3, 2, 1, 3, 3, 1, 3, 3, 1, 3, 2, 3, 1, 2, 2, 1, 2, 1, 1, 3, 1, 1, 3, 1, 3, 1, 3, 2, 2, 2, 2, 3, 3, 2, 1, 2, 2, 2, 3, 2, 1, 2, 3, 1, 2, 3, 1, 1, 2, 3, 2, 2, 1, 2, 1, 2, 1, 2, 3, 1, 2, 1, 2, 3, 2, 2, 3, 2, 1, 1, 2, 1, 2, 1, 3, 3, 1, 2, 3, 1, 3, 3, 1, 1, 2, 2, 1, 1, 2, 2, 3, 2, 1, 1, 2, 3, 1, 3, 3, 3, 3, 3, 1, 2, 2, 2, 2, 1, 2, 2, 3, 3, 1, 2, 3, 1, 3, 1, 2, 2, 2, 1, 2, 3, 1, 2, 3, 1, 1, 3, 1, 3, 2, 3, 3], \"Freq\": [0.5864683119782534, 0.8849209827402379, 0.8146486118708135, 0.8146485341633651, 0.8739121519836308, 1.0687582482264775, 0.8849213348950467, 0.8739061613393405, 0.8146483008131084, 0.5965005030781191, 0.8739153539444354, 0.8146493110939566, 0.8146484822767525, 0.6531261497370744, 0.3265630748685372, 0.5638276718193063, 0.5638276718193063, 0.4284183245600854, 0.4284183245600854, 0.4284183245600854, 0.8739429647162391, 0.6126882170149369, 0.20422940567164563, 0.8997145123299988, 0.8146480647192209, 0.5965009742347439, 0.8849209889942241, 0.8146489148233317, 0.8849213154572946, 0.5865637334088238, 0.884921838345027, 0.8223067915696454, 0.4111533957848227, 0.8739103761365776, 0.5592582625810296, 0.5592582625810296, 0.8146488497776174, 0.8271371889224294, 0.4135685944612147, 0.8146484361672918, 0.8094946549601919, 0.2698315516533973, 1.0687625872819482, 0.8849211606129862, 0.8146490990247085, 0.8849209601695507, 0.8739049352634155, 0.8739112437689532, 0.8739418188478765, 0.8739054710485619, 0.8849209698696757, 0.8849214548377263, 0.8739040326198338, 0.5592666535889832, 0.5592666535889832, 0.8739421754821238, 0.5914639812343876, 0.5914639812343876, 0.8739047294720309, 0.5591312196881657, 0.5591312196881657, 0.8849208743170339, 0.6213858190808215, 0.20712860636027383, 0.20712860636027383, 0.8146479243169005, 0.5591298745202437, 0.5591298745202437, 0.8849206920429731, 0.8739417695120432, 0.873912750214378, 0.6499523542302881, 0.32497617711514404, 0.5591452712328089, 0.5591452712328089, 0.8146487031678474, 0.8739417655921334, 0.8849207211073145, 0.6499451815875914, 0.3249725907937957, 0.8146485880440287, 0.5914647272109742, 0.5914647272109742, 0.8739054036773779, 0.5865318686713004, 0.8849057038759383, 0.8739424358144879, 1.0686956398122311, 1.0686979882588497, 0.8739076641057338, 0.8220818910824897, 0.4110409455412449, 0.814648920156844, 0.8849217113153031, 0.8849209030027992, 0.559299811370027, 0.559299811370027, 0.884920820256728, 0.8146490554015894, 0.8849211564419371, 0.5964881051315066, 0.8146487237388462, 0.5591301518632742, 0.5591301518632742, 0.8739426867331296, 0.8146475792615231, 0.5591461596061179, 0.5591461596061179, 0.8739413917018427, 0.8849213417090018, 0.8739425792871819, 0.8146491498271864, 0.42837170000866215, 0.42837170000866215, 0.42837170000866215, 0.5637496680660373, 0.5637496680660373, 0.8849208495901102, 0.8849210321081648, 0.884921604350797, 0.8849208638152455, 0.8146491352775641, 0.8739081031492617, 0.8739431138549069, 0.8739431883048138, 0.8739141192153677, 0.5591355260204254, 0.5591355260204254, 0.44701654272695723, 0.44701654272695723, 0.8849219105970099, 0.2508058481408714, 0.2508058481408714, 0.5016116962817428, 0.8146483261041759, 0.8849210152530379, 0.5591376731308848, 0.5591376731308848, 0.8739421084779841, 0.8739418393192594, 0.5591327342714384, 0.5591327342714384, 0.8849210819555552, 0.5520650499955461, 0.27603252499777303, 0.27603252499777303, 0.814649211740343, 0.563832159536024, 0.563832159536024, 0.5638314267460133, 0.5638314267460133, 0.5914726082831672, 0.5914726082831672, 0.8849211025716949], \"Term\": [\"ai\", \"appealing\", \"architecting\", \"backbone\", \"brand\", \"bring\", \"building\", \"campaign\", \"cisco\", \"collaborate\", \"compelling\", \"complex\", \"connectivity\", \"contribute\", \"contribute\", \"crafting\", \"crafting\", \"creating\", \"creating\", \"creating\", \"cybersecurity\", \"data\", \"data\", \"database\", \"deploy\", \"design\", \"designer\", \"designing\", \"developing\", \"digital\", \"diverse\", \"drive\", \"drive\", \"driving\", \"dynamic\", \"dynamic\", \"ecosystem\", \"engineer\", \"engineer\", \"equipment\", \"experience\", \"experience\", \"expertise\", \"feature\", \"future\", \"group\", \"grow\", \"growth\", \"guardian\", \"hear\", \"hiring\", \"impact\", \"impactful\", \"implementing\", \"implementing\", \"information\", \"innovate\", \"innovate\", \"inspire\", \"intelligence\", \"intelligence\", \"intuitive\", \"join\", \"join\", \"join\", \"juniper\", \"knowledge\", \"knowledge\", \"lasting\", \"latest\", \"lead\", \"learning\", \"learning\", \"let\", \"let\", \"library\", \"looking\", \"love\", \"machine\", \"machine\", \"maintaining\", \"manage\", \"manage\", \"manager\", \"marketing\", \"master\", \"measure\", \"ml\", \"model\", \"narrative\", \"network\", \"network\", \"networking\", \"new\", \"passion\", \"passionate\", \"passionate\", \"pivotal\", \"problem\", \"product\", \"proficiency\", \"proficient\", \"project\", \"project\", \"protect\", \"protocol\", \"python\", \"python\", \"risk\", \"role\", \"safeguarding\", \"scientist\", \"security\", \"security\", \"security\", \"seeking\", \"seeking\", \"shaping\", \"showcase\", \"software\", \"solution\", \"solve\", \"spearhead\", \"specialist\", \"staying\", \"strategy\", \"strong\", \"strong\", \"system\", \"system\", \"talented\", \"team\", \"team\", \"team\", \"technological\", \"technology\", \"tensorflow\", \"tensorflow\", \"threat\", \"thrive\", \"together\", \"together\", \"tool\", \"u\", \"u\", \"u\", \"unlock\", \"user\", \"user\", \"visually\", \"visually\", \"want\", \"want\", \"world\"]}, \"R\": 30, \"lambda.step\": 0.01, \"plot.opts\": {\"xlab\": \"PC1\", \"ylab\": \"PC2\"}, \"topic.order\": [1, 3, 2]};\n",
       "\n",
       "function LDAvis_load_lib(url, callback){\n",
       "  var s = document.createElement('script');\n",
       "  s.src = url;\n",
       "  s.async = true;\n",
       "  s.onreadystatechange = s.onload = callback;\n",
       "  s.onerror = function(){console.warn(\"failed to load library \" + url);};\n",
       "  document.getElementsByTagName(\"head\")[0].appendChild(s);\n",
       "}\n",
       "\n",
       "if(typeof(LDAvis) !== \"undefined\"){\n",
       "   // already loaded: just create the visualization\n",
       "   !function(LDAvis){\n",
       "       new LDAvis(\"#\" + \"ldavis_el2510822001930137924072133957\", ldavis_el2510822001930137924072133957_data);\n",
       "   }(LDAvis);\n",
       "}else if(typeof define === \"function\" && define.amd){\n",
       "   // require.js is available: use it to load d3/LDAvis\n",
       "   require.config({paths: {d3: \"https://d3js.org/d3.v5\"}});\n",
       "   require([\"d3\"], function(d3){\n",
       "      window.d3 = d3;\n",
       "      LDAvis_load_lib(\"https://cdn.jsdelivr.net/gh/bmabey/pyLDAvis@3.4.0/pyLDAvis/js/ldavis.v3.0.0.js\", function(){\n",
       "        new LDAvis(\"#\" + \"ldavis_el2510822001930137924072133957\", ldavis_el2510822001930137924072133957_data);\n",
       "      });\n",
       "    });\n",
       "}else{\n",
       "    // require.js not available: dynamically load d3 & LDAvis\n",
       "    LDAvis_load_lib(\"https://d3js.org/d3.v5.js\", function(){\n",
       "         LDAvis_load_lib(\"https://cdn.jsdelivr.net/gh/bmabey/pyLDAvis@3.4.0/pyLDAvis/js/ldavis.v3.0.0.js\", function(){\n",
       "                 new LDAvis(\"#\" + \"ldavis_el2510822001930137924072133957\", ldavis_el2510822001930137924072133957_data);\n",
       "            })\n",
       "         });\n",
       "}\n",
       "</script>"
      ],
      "text/plain": [
       "<IPython.core.display.HTML object>"
      ]
     },
     "execution_count": 8,
     "metadata": {},
     "output_type": "execute_result"
    }
   ],
   "source": [
    "# Visualize the topics\n",
    "vis = pyLDAvis.gensim_models.prepare(lda_model, corpus, dictionary)\n",
    "pyLDAvis.enable_notebook()\n",
    "pyLDAvis.display(vis)"
   ]
  }
 ],
 "metadata": {
  "kernelspec": {
   "display_name": "Python 3",
   "language": "python",
   "name": "python3"
  },
  "language_info": {
   "codemirror_mode": {
    "name": "ipython",
    "version": 3
   },
   "file_extension": ".py",
   "mimetype": "text/x-python",
   "name": "python",
   "nbconvert_exporter": "python",
   "pygments_lexer": "ipython3",
   "version": "3.8.8"
  }
 },
 "nbformat": 4,
 "nbformat_minor": 5
}
